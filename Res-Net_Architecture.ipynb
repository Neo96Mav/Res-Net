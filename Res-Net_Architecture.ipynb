{
 "cells": [
  {
   "cell_type": "markdown",
   "metadata": {},
   "source": [
    "# Res-Net \n",
    "## Author - Avineil Jain \n",
    "This notebook illustrates the Res-Net architecture given in the paper Deep Residual Learning for Image Recognition. The code is done in Python using Keras with Tensorflow backend. Even though Res-Nets work best for very deep networks, shallow networks will be trained here due to computation limitations"
   ]
  },
  {
   "cell_type": "code",
   "execution_count": 1,
   "metadata": {},
   "outputs": [
    {
     "name": "stderr",
     "output_type": "stream",
     "text": [
      "/home/ubuntu/anaconda3/envs/tensorflow_p36/lib/python3.6/importlib/_bootstrap.py:219: RuntimeWarning: compiletime version 3.5 of module 'tensorflow.python.framework.fast_tensor_util' does not match runtime version 3.6\n",
      "  return f(*args, **kwds)\n",
      "/home/ubuntu/anaconda3/envs/tensorflow_p36/lib/python3.6/site-packages/h5py/__init__.py:36: FutureWarning: Conversion of the second argument of issubdtype from `float` to `np.floating` is deprecated. In future, it will be treated as `np.float64 == np.dtype(float).type`.\n",
      "  from ._conv import register_converters as _register_converters\n",
      "/home/ubuntu/anaconda3/envs/tensorflow_p36/lib/python3.6/site-packages/matplotlib/__init__.py:962: UserWarning: Duplicate key in file \"/home/ubuntu/.config/matplotlib/matplotlibrc\", line #2\n",
      "  (fname, cnt))\n",
      "/home/ubuntu/anaconda3/envs/tensorflow_p36/lib/python3.6/site-packages/matplotlib/__init__.py:962: UserWarning: Duplicate key in file \"/home/ubuntu/.config/matplotlib/matplotlibrc\", line #3\n",
      "  (fname, cnt))\n",
      "Using TensorFlow backend.\n"
     ]
    },
    {
     "name": "stdout",
     "output_type": "stream",
     "text": [
      "Downloading data from http://fashion-mnist.s3-website.eu-central-1.amazonaws.com/train-labels-idx1-ubyte.gz\n",
      "32768/29515 [=================================] - 0s 3us/step\n",
      "Downloading data from http://fashion-mnist.s3-website.eu-central-1.amazonaws.com/train-images-idx3-ubyte.gz\n",
      "26427392/26421880 [==============================] - 4s 0us/step\n",
      "Downloading data from http://fashion-mnist.s3-website.eu-central-1.amazonaws.com/t10k-labels-idx1-ubyte.gz\n",
      "8192/5148 [===============================================] - 0s 0us/step\n",
      "Downloading data from http://fashion-mnist.s3-website.eu-central-1.amazonaws.com/t10k-images-idx3-ubyte.gz\n",
      "4423680/4422102 [==============================] - 3s 1us/step\n"
     ]
    }
   ],
   "source": [
    "import tensorflow as tf\n",
    "from keras.layers import Input, Dense, Conv2D, MaxPooling2D, Flatten, BatchNormalization, Dropout, Activation, Add\n",
    "from keras.models import Model\n",
    "from keras.datasets import fashion_mnist\n",
    "import matplotlib.pyplot as plt\n",
    "import numpy as np\n",
    "\n",
    "(x_train, y_train), (x_test, y_test) = fashion_mnist.load_data()"
   ]
  },
  {
   "cell_type": "markdown",
   "metadata": {},
   "source": [
    "# Res-Net Block\n",
    "Let us now define the Res-Net block to be used for the architecture "
   ]
  },
  {
   "cell_type": "code",
   "execution_count": 2,
   "metadata": {},
   "outputs": [],
   "source": [
    "def resnet_block_pool(X,output_filters,filter_size,index):\n",
    "    #Defining H(x)\n",
    "    #I have defined the more advanced bottleneck residual function\n",
    "    f1,f2,f3 = output_filters\n",
    "    \n",
    "    X2 = Conv2D(f1,(1,1),padding='valid',name='Conv_a'+str(index))(X)\n",
    "    X2 = BatchNormalization()(X2)\n",
    "    X2 = Activation('relu')(X2)\n",
    "    \n",
    "    X2 = Conv2D(f2,(filter_size,filter_size),padding='same',name='Conv_b'+str(index))(X2)\n",
    "    X2 = BatchNormalization()(X2)\n",
    "    X2 = Activation('relu')(X2)\n",
    "    X2 = MaxPooling2D(name=\"max\"+str(index))(X2)\n",
    "    #The identity block element will change dimensions (because of pooling), so a convolutional block is added\n",
    "    X3 = Conv2D(f3,(3,3),strides=(2,2),padding = 'same',name='Conv_map'+str(index))(X)\n",
    "     \n",
    "    X2 = Conv2D(f3,(1,1),padding='same',name='Conv_c'+str(index))(X2)\n",
    "    #Adding the identity block \n",
    "    X_net = Add()([X2,X3])\n",
    "    X_net = BatchNormalization()(X_net)\n",
    "    X_net = Activation('relu')(X_net)\n",
    "    \n",
    "    return X_net"
   ]
  },
  {
   "cell_type": "code",
   "execution_count": 3,
   "metadata": {},
   "outputs": [],
   "source": [
    "def resnet_block_identity(X,output_filters,filter_size,index):\n",
    "    #Defining H(x)\n",
    "    #I have defined the more advanced bottleneck residual function\n",
    "    #The identity branch means that number of channels have to be equal. This is something that has to be \n",
    "    #kept in mind when designing the network \n",
    "    f1,f2,f3 = output_filters\n",
    "    \n",
    "    X2 = Conv2D(f1,(1,1),padding='valid',name='Conv_a'+str(index))(X)\n",
    "    X2 = BatchNormalization()(X2)\n",
    "    X2 = Activation('relu')(X2)\n",
    "    \n",
    "    X2 = Conv2D(f2,(filter_size,filter_size),padding='same',name='Conv_b'+str(index))(X2)\n",
    "    X2 = BatchNormalization()(X2)\n",
    "    X2 = Activation('relu')(X2)\n",
    "    X3 = X\n",
    "    \n",
    "    X2 = Conv2D(f3,(1,1),padding='same',name='Conv_c'+str(index))(X2)\n",
    "    #Adding the identity block \n",
    "    X_net = Add()([X2,X3])\n",
    "    X_net = BatchNormalization()(X_net)\n",
    "    X_net = Activation('relu')(X_net)\n",
    "    \n",
    "    return X_net"
   ]
  },
  {
   "cell_type": "code",
   "execution_count": 4,
   "metadata": {},
   "outputs": [],
   "source": [
    "def resnet_architecture():\n",
    "    inputs = Input(shape=(28,28,1))\n",
    "    \n",
    "    X = Conv2D(32,(5,5),padding='same',name='Conv1')(inputs)\n",
    "    X = BatchNormalization()(X)\n",
    "    X = Activation('relu')(X)\n",
    "    \n",
    "    #Now we start stacking the Res-Net Layers\n",
    "    #Shape is now (28,28,32)\n",
    "    #Block2\n",
    "    X = resnet_block_identity(X,[32,16,32],3,2)\n",
    "    #Shape is now (28,28,32)\n",
    "    #Block3\n",
    "    X = resnet_block_pool(X,[32,32,64],3,3)\n",
    "    #Shape is now (14,14,64)\n",
    "    #Block4\n",
    "    X = resnet_block_identity(X,[64,32,64],3,4)\n",
    "    #Shape is now (14,14,64)\n",
    "    #Block5\n",
    "    X = resnet_block_pool(X,[64,64,128],3,5)\n",
    "    #Shape is now (7,7,64)\n",
    "    #FC Layer\n",
    "    X = Flatten()(X)\n",
    "    X = Dropout(0.1)(X)\n",
    "    pred_y = Dense(10,activation='softmax',name=\"Dense1\")(X)\n",
    "    model = Model(inputs = inputs,outputs = pred_y)\n",
    "    \n",
    "    return model"
   ]
  },
  {
   "cell_type": "code",
   "execution_count": 5,
   "metadata": {},
   "outputs": [],
   "source": [
    "fashion_model = resnet_architecture()\n",
    "fashion_model.compile(optimizer='Adam',loss = 'categorical_crossentropy', metrics=['accuracy'])"
   ]
  },
  {
   "cell_type": "code",
   "execution_count": 6,
   "metadata": {},
   "outputs": [],
   "source": [
    "x_train_reshape = x_train.reshape(-1,28,28,1) #Reshaping the input to fit the Conv2D filter"
   ]
  },
  {
   "cell_type": "code",
   "execution_count": 7,
   "metadata": {},
   "outputs": [],
   "source": [
    "def convert_to_one_hot(y):\n",
    "    b = np.zeros((y.shape[0], 10))\n",
    "    for i in range(b.shape[0]):\n",
    "        b[i][y[i]] = 1\n",
    "        \n",
    "    return b"
   ]
  },
  {
   "cell_type": "code",
   "execution_count": 8,
   "metadata": {},
   "outputs": [],
   "source": [
    "y_train_reshape = convert_to_one_hot(y_train)"
   ]
  },
  {
   "cell_type": "code",
   "execution_count": null,
   "metadata": {},
   "outputs": [
    {
     "name": "stdout",
     "output_type": "stream",
     "text": [
      "Epoch 1/10\n",
      "60000/60000 [==============================] - 62s 1ms/step - loss: 0.2159 - acc: 0.9225\n",
      "Epoch 2/10\n",
      "60000/60000 [==============================] - 62s 1ms/step - loss: 0.1820 - acc: 0.9343\n",
      "Epoch 3/10\n",
      "60000/60000 [==============================] - 62s 1ms/step - loss: 0.1527 - acc: 0.9440\n",
      "Epoch 4/10\n",
      "60000/60000 [==============================] - 62s 1ms/step - loss: 0.1370 - acc: 0.9491\n",
      "Epoch 5/10\n",
      "60000/60000 [==============================] - 62s 1ms/step - loss: 0.1125 - acc: 0.9583\n",
      "Epoch 6/10\n",
      "60000/60000 [==============================] - 62s 1ms/step - loss: 0.0996 - acc: 0.9636\n",
      "Epoch 7/10\n",
      "60000/60000 [==============================] - 62s 1ms/step - loss: 0.0830 - acc: 0.9701\n",
      "Epoch 8/10\n",
      "60000/60000 [==============================] - 62s 1ms/step - loss: 0.0717 - acc: 0.9740\n",
      "Epoch 9/10\n",
      "60000/60000 [==============================] - 62s 1ms/step - loss: 0.0653 - acc: 0.9762\n",
      "Epoch 10/10\n",
      "44160/60000 [=====================>........] - ETA: 16s - loss: 0.0528 - acc: 0.9807"
     ]
    }
   ],
   "source": [
    "num_epochs = 10\n",
    "fashion_model.fit(x=x_train_reshape,y=y_train_reshape,batch_size=128,epochs = num_epochs)"
   ]
  },
  {
   "cell_type": "code",
   "execution_count": null,
   "metadata": {},
   "outputs": [],
   "source": [
    "x_test_reshape = x_test.reshape(-1,28,28,1)\n",
    "y_test_reshape = convert_to_one_hot(y_test)"
   ]
  },
  {
   "cell_type": "code",
   "execution_count": null,
   "metadata": {},
   "outputs": [],
   "source": [
    "model_eval = fashion_model.evaluate(x=x_test_reshape,y=y_test_reshape)\n",
    "print(\"Final Test Accuracy: \", model_eval[1])"
   ]
  },
  {
   "cell_type": "code",
   "execution_count": null,
   "metadata": {},
   "outputs": [],
   "source": [
    "import h5py\n",
    "fashion_model.save(\"first_iter.h5\")"
   ]
  },
  {
   "cell_type": "code",
   "execution_count": null,
   "metadata": {},
   "outputs": [],
   "source": []
  }
 ],
 "metadata": {
  "kernelspec": {
   "display_name": "Python 3",
   "language": "python",
   "name": "python3"
  },
  "language_info": {
   "codemirror_mode": {
    "name": "ipython",
    "version": 3
   },
   "file_extension": ".py",
   "mimetype": "text/x-python",
   "name": "python",
   "nbconvert_exporter": "python",
   "pygments_lexer": "ipython3",
   "version": "3.6.4"
  }
 },
 "nbformat": 4,
 "nbformat_minor": 2
}
